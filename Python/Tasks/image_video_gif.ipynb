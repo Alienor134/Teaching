{
 "cells": [
  {
   "cell_type": "markdown",
   "metadata": {},
   "source": [
    "## Video to GIF"
   ]
  },
  {
   "cell_type": "code",
   "execution_count": null,
   "metadata": {},
   "outputs": [],
   "source": [
    "# source: \n",
    "\n",
    "from tkinter.filedialog import askopenfilename, askopenfilenames\n",
    "from moviepy.editor import *\n",
    "\n",
    "file = askopenfilename() #select file\n",
    "\n",
    "clip = (VideoFileClip(file))\n",
    "dx = clip.fx(vfx.speedx, 30) #keep 1 in every N frames\n",
    "dx.write_gif(\"gif_from_python.gif\")"
   ]
  },
  {
   "cell_type": "markdown",
   "metadata": {},
   "source": [
    "## Images to video"
   ]
  },
  {
   "cell_type": "code",
   "execution_count": null,
   "metadata": {},
   "outputs": [],
   "source": [
    "import cv2\n",
    "\n",
    "def save_video(video_name, folder):\n",
    "    shape = cv2.imread(glob.glob(folder + \"/*.jpg\")[0]).shape\n",
    "    out = cv2.VideoWriter(folder + \"_\" + video_name + \".mp4\", cv2.VideoWriter_fourcc(*'mp4v'), 4, (shape[1], shape[0]))\n",
    "    for i, file in enumerate(glob.glob(folder + \"/*.jpg\")):\n",
    "        out.write(cv2.imread(file)) # frame is a numpy.ndarray with shape (1280, 720, 3)\n",
    "    out.release()\n",
    "    \n"
   ]
  }
 ],
 "metadata": {
  "kernelspec": {
   "display_name": "Python 3",
   "language": "python",
   "name": "python3"
  },
  "language_info": {
   "codemirror_mode": {
    "name": "ipython",
    "version": 3
   },
   "file_extension": ".py",
   "mimetype": "text/x-python",
   "name": "python",
   "nbconvert_exporter": "python",
   "pygments_lexer": "ipython3",
   "version": "3.7.7"
  }
 },
 "nbformat": 4,
 "nbformat_minor": 4
}
