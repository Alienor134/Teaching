{
 "cells": [
  {
   "cell_type": "code",
   "execution_count": 4,
   "metadata": {},
   "outputs": [],
   "source": [
    "#source: https://www.thepythoncode.com/article/merge-pdf-files-in-python\n",
    "\n",
    "from PyPDF4 import PdfFileMerger\n",
    "import os,argparse\n",
    "\n",
    "def merge_pdfs(input_files: list, output_file: str, bookmark: bool = True):\n",
    "    \"\"\"\n",
    "    Merge a list of PDF files and save the combined result into the `output_file`.\n",
    "    `page_range` to select a range of pages (behaving like Python's range() function) from the input files\n",
    "        e.g (0,2) -> First 2 pages \n",
    "        e.g (0,6,2) -> pages 1,3,5\n",
    "    bookmark -> add bookmarks to the output file to navigate directly to the input file section within the output file.\n",
    "    \"\"\"\n",
    "    # strict = False -> To ignore PdfReadError - Illegal Character error\n",
    "    merger = PdfFileMerger(strict=False)\n",
    "    for input_file in input_files:\n",
    "        bookmark_name = os.path.splitext(os.path.basename(input_file))[0] if bookmark else None\n",
    "        # pages To control which pages are appended from a particular file.\n",
    "        merger.append(fileobj=open(input_file, 'rb'), import_bookmarks=False, bookmark=bookmark_name)\n",
    "    # Insert the pdf at specific page\n",
    "    merger.write(fileobj=open(output_file, 'wb'))\n",
    "    merger.close()\n",
    "\n"
   ]
  },
  {
   "cell_type": "code",
   "execution_count": null,
   "metadata": {},
   "outputs": [],
   "source": [
    "liste = []\n",
    "output_name = \"\"\n",
    "merge_pdfs(liste, output_name)"
   ]
  },
  {
   "cell_type": "code",
   "execution_count": null,
   "metadata": {},
   "outputs": [],
   "source": []
  }
 ],
 "metadata": {
  "kernelspec": {
   "display_name": "Python 3",
   "language": "python",
   "name": "python3"
  },
  "language_info": {
   "codemirror_mode": {
    "name": "ipython",
    "version": 3
   },
   "file_extension": ".py",
   "mimetype": "text/x-python",
   "name": "python",
   "nbconvert_exporter": "python",
   "pygments_lexer": "ipython3",
   "version": "3.7.7"
  }
 },
 "nbformat": 4,
 "nbformat_minor": 4
}
